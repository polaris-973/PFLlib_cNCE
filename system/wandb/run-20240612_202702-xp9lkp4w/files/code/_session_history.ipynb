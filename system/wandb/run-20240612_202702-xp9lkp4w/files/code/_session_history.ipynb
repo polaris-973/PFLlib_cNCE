{
 "cells": [
  {
   "cell_type": "code",
   "execution_count": 1,
   "id": "ca5ce95a",
   "metadata": {},
   "outputs": [
    {
     "data": {
      "text/html": [
       "wandb version 0.17.1 is available!  To upgrade, please run:\n",
       " $ pip install wandb --upgrade"
      ],
      "text/plain": [
       "<IPython.core.display.HTML object>"
      ]
     },
     "metadata": {},
     "output_type": "display_data"
    },
    {
     "data": {
      "text/html": [
       "Tracking run with wandb version 0.15.8"
      ],
      "text/plain": [
       "<IPython.core.display.HTML object>"
      ]
     },
     "metadata": {},
     "output_type": "display_data"
    },
    {
     "data": {
      "text/html": [
       "Run data is saved locally in <code>D:\\Research-Projects-jupyter\\PFLlib\\system\\wandb\\run-20240612_202702-xp9lkp4w</code>"
      ],
      "text/plain": [
       "<IPython.core.display.HTML object>"
      ]
     },
     "metadata": {},
     "output_type": "display_data"
    },
    {
     "data": {
      "text/html": [
       "Syncing run <strong><a href='https://wandb.ai/paddeyzhang/SCL_test/runs/xp9lkp4w' target=\"_blank\">FedASCL-cnn-joinRatio-1.0-BatchSize-64-localEpoch-1</a></strong> to <a href='https://wandb.ai/paddeyzhang/SCL_test' target=\"_blank\">Weights & Biases</a> (<a href='https://wandb.me/run' target=\"_blank\">docs</a>)<br/>"
      ],
      "text/plain": [
       "<IPython.core.display.HTML object>"
      ]
     },
     "metadata": {},
     "output_type": "display_data"
    },
    {
     "data": {
      "text/html": [
       " View project at <a href='https://wandb.ai/paddeyzhang/SCL_test' target=\"_blank\">https://wandb.ai/paddeyzhang/SCL_test</a>"
      ],
      "text/plain": [
       "<IPython.core.display.HTML object>"
      ]
     },
     "metadata": {},
     "output_type": "display_data"
    },
    {
     "data": {
      "text/html": [
       " View run at <a href='https://wandb.ai/paddeyzhang/SCL_test/runs/xp9lkp4w' target=\"_blank\">https://wandb.ai/paddeyzhang/SCL_test/runs/xp9lkp4w</a>"
      ],
      "text/plain": [
       "<IPython.core.display.HTML object>"
      ]
     },
     "metadata": {},
     "output_type": "display_data"
    }
   ],
   "source": [
    "%cd ./PFLlib/dataset/\n",
    "%cd ../system/\n",
    "%run main.py -data Cifar10 -m cnn -algo FedASCL -gr 500 -mt sclp -lbs 64 -wb SCL_test -eg 10 -nb 10"
   ]
  },
  {
   "cell_type": "code",
   "execution_count": 2,
   "id": "4a0c0563",
   "metadata": {},
   "outputs": [],
   "source": [
    "%cd ./PFLlib/dataset/\n",
    "%cd ../system/\n",
    "%run main.py -data Cifar10 -m cnn -algo FedASCL -gr 1000 -mt sclp -lbs 64 -wb SCL_test -eg 10 -nb 10"
   ]
  }
 ],
 "metadata": {
  "kernelspec": {
   "display_name": "Python 3",
   "language": "python",
   "name": "python3"
  },
  "language_info": {
   "codemirror_mode": {
    "name": "ipython",
    "version": 3
   },
   "file_extension": ".py",
   "mimetype": "text/x-python",
   "name": "python",
   "nbconvert_exporter": "python",
   "pygments_lexer": "ipython3",
   "version": "3.7.12"
  }
 },
 "nbformat": 4,
 "nbformat_minor": 5
}
