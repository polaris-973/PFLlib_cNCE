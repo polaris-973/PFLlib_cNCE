{
 "cells": [
  {
   "cell_type": "code",
   "execution_count": 1,
   "id": "b2916fa2",
   "metadata": {},
   "outputs": [],
   "source": [
    "%cd ./PFLlib/dataset/\n",
    "%cd ../system/\n",
    "%run main.py -data Cifar100 -m cnn -algo FedASCL -gr 1000 -mt raw -lbs 64 -wb SCL_test -eg 10 -nb 100"
   ]
  },
  {
   "cell_type": "code",
   "execution_count": 2,
   "id": "2ee2ec79",
   "metadata": {},
   "outputs": [],
   "source": [
    "%cd ./PFLlib/dataset/\n",
    "%cd ../system/\n",
    "%run main.py -data Cifar100 -m cnn -algo FedASCL -gr 1000 -mt arc -lbs 64 -wb SCL_test -eg 10 -nb 100"
   ]
  },
  {
   "cell_type": "code",
   "execution_count": 3,
   "id": "795bcf4e",
   "metadata": {},
   "outputs": [
    {
     "data": {
      "text/html": [
       "Finishing last run (ID:ldrr60sq) before initializing another..."
      ],
      "text/plain": [
       "<IPython.core.display.HTML object>"
      ]
     },
     "metadata": {},
     "output_type": "display_data"
    },
    {
     "data": {
      "text/html": [
       "Waiting for W&B process to finish... <strong style=\"color:green\">(success).</strong>"
      ],
      "text/plain": [
       "<IPython.core.display.HTML object>"
      ]
     },
     "metadata": {},
     "output_type": "display_data"
    },
    {
     "data": {
      "text/html": [
       "<style>\n",
       "    table.wandb td:nth-child(1) { padding: 0 10px; text-align: left ; width: auto;} td:nth-child(2) {text-align: left ; width: 100%}\n",
       "    .wandb-row { display: flex; flex-direction: row; flex-wrap: wrap; justify-content: flex-start; width: 100% }\n",
       "    .wandb-col { display: flex; flex-direction: column; flex-basis: 100%; flex: 1; padding: 10px; }\n",
       "    </style>\n",
       "<div class=\"wandb-row\"><div class=\"wandb-col\"><h3>Run history:</h3><br/><table class=\"wandb\"><tr><td>accuracy</td><td>▁▁▁▁▁▁▃▄▅▆▆▆▆▇▇▇▇▇▇▇████████████████████</td></tr><tr><td>auc</td><td>▁▂▂▃▃▄▆▇▇▇▇█████████████████████████████</td></tr><tr><td>loss</td><td>█▇▇▇▇▇▆▅▅▄▄▄▄▄▃▃▃▃▃▃▃▃▃▃▂▂▂▂▂▂▂▂▂▂▁▁▁▁▁▁</td></tr><tr><td>std_accuracy</td><td>▁▄▃▃▄▄▅▅▆▇▇▇▇█▇▇▇█▇▇▇▇▇▇▇▇▇▇▇▇▇▇▇▆▆▇▆▇▆▇</td></tr></table><br/></div><div class=\"wandb-col\"><h3>Run summary:</h3><br/><table class=\"wandb\"><tr><td>accuracy</td><td>0.41205</td></tr><tr><td>auc</td><td>0.92824</td></tr><tr><td>loss</td><td>3.5408</td></tr><tr><td>std_accuracy</td><td>0.03475</td></tr></table><br/></div></div>"
      ],
      "text/plain": [
       "<IPython.core.display.HTML object>"
      ]
     },
     "metadata": {},
     "output_type": "display_data"
    },
    {
     "data": {
      "text/html": [
       " View run <strong style=\"color:#cdcd00\">FedASCL-cnn-joinRatio-1.0-BatchSize-64-localEpoch-1</strong> at: <a href='https://wandb.ai/paddeyzhang/SCL_test/runs/ldrr60sq' target=\"_blank\">https://wandb.ai/paddeyzhang/SCL_test/runs/ldrr60sq</a><br/> View job at <a href='https://wandb.ai/paddeyzhang/SCL_test/jobs/QXJ0aWZhY3RDb2xsZWN0aW9uOjE4Mjc3NTc2OA==/version_details/v1' target=\"_blank\">https://wandb.ai/paddeyzhang/SCL_test/jobs/QXJ0aWZhY3RDb2xsZWN0aW9uOjE4Mjc3NTc2OA==/version_details/v1</a><br/>Synced 6 W&B file(s), 0 media file(s), 0 artifact file(s) and 1 other file(s)"
      ],
      "text/plain": [
       "<IPython.core.display.HTML object>"
      ]
     },
     "metadata": {},
     "output_type": "display_data"
    },
    {
     "data": {
      "text/html": [
       "Find logs at: <code>.\\wandb\\run-20240607_015544-ldrr60sq\\logs</code>"
      ],
      "text/plain": [
       "<IPython.core.display.HTML object>"
      ]
     },
     "metadata": {},
     "output_type": "display_data"
    },
    {
     "data": {
      "text/html": [
       "Successfully finished last run (ID:ldrr60sq). Initializing new run:<br/>"
      ],
      "text/plain": [
       "<IPython.core.display.HTML object>"
      ]
     },
     "metadata": {},
     "output_type": "display_data"
    },
    {
     "data": {
      "text/html": [
       "wandb version 0.17.0 is available!  To upgrade, please run:\n",
       " $ pip install wandb --upgrade"
      ],
      "text/plain": [
       "<IPython.core.display.HTML object>"
      ]
     },
     "metadata": {},
     "output_type": "display_data"
    },
    {
     "data": {
      "text/html": [
       "Tracking run with wandb version 0.15.8"
      ],
      "text/plain": [
       "<IPython.core.display.HTML object>"
      ]
     },
     "metadata": {},
     "output_type": "display_data"
    },
    {
     "data": {
      "text/html": [
       "Run data is saved locally in <code>D:\\Research-Projects-jupyter\\PFLlib\\system\\wandb\\run-20240607_032457-fma5wpoo</code>"
      ],
      "text/plain": [
       "<IPython.core.display.HTML object>"
      ]
     },
     "metadata": {},
     "output_type": "display_data"
    },
    {
     "data": {
      "text/html": [
       "Syncing run <strong><a href='https://wandb.ai/paddeyzhang/SCL_test/runs/fma5wpoo' target=\"_blank\">FedASCL-cnn-joinRatio-1.0-BatchSize-64-localEpoch-1</a></strong> to <a href='https://wandb.ai/paddeyzhang/SCL_test' target=\"_blank\">Weights & Biases</a> (<a href='https://wandb.me/run' target=\"_blank\">docs</a>)<br/>"
      ],
      "text/plain": [
       "<IPython.core.display.HTML object>"
      ]
     },
     "metadata": {},
     "output_type": "display_data"
    },
    {
     "data": {
      "text/html": [
       " View project at <a href='https://wandb.ai/paddeyzhang/SCL_test' target=\"_blank\">https://wandb.ai/paddeyzhang/SCL_test</a>"
      ],
      "text/plain": [
       "<IPython.core.display.HTML object>"
      ]
     },
     "metadata": {},
     "output_type": "display_data"
    },
    {
     "data": {
      "text/html": [
       " View run at <a href='https://wandb.ai/paddeyzhang/SCL_test/runs/fma5wpoo' target=\"_blank\">https://wandb.ai/paddeyzhang/SCL_test/runs/fma5wpoo</a>"
      ],
      "text/plain": [
       "<IPython.core.display.HTML object>"
      ]
     },
     "metadata": {},
     "output_type": "display_data"
    }
   ],
   "source": [
    "%cd ./PFLlib/dataset/\n",
    "%cd ../system/\n",
    "%run main.py -data Cifar100 -m cnn -algo FedASCL -gr 1000 -mt rcl -lbs 64 -wb SCL_test -eg 10 -nb 100"
   ]
  },
  {
   "cell_type": "code",
   "execution_count": 4,
   "id": "f887f25c",
   "metadata": {},
   "outputs": [],
   "source": [
    "%cd ./PFLlib/dataset/\n",
    "%cd ../system/\n",
    "%run main.py -data Cifar100 -m cnn -algo FedASCL -gr 1000 -mt cos -lbs 64 -wb SCL_test -eg 10 -nb 100"
   ]
  }
 ],
 "metadata": {
  "kernelspec": {
   "display_name": "Python 3",
   "language": "python",
   "name": "python3"
  },
  "language_info": {
   "codemirror_mode": {
    "name": "ipython",
    "version": 3
   },
   "file_extension": ".py",
   "mimetype": "text/x-python",
   "name": "python",
   "nbconvert_exporter": "python",
   "pygments_lexer": "ipython3",
   "version": "3.7.12"
  }
 },
 "nbformat": 4,
 "nbformat_minor": 5
}
